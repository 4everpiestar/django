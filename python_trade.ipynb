{
 "cells": [
  {
   "cell_type": "code",
   "execution_count": 1,
   "metadata": {
    "collapsed": true
   },
   "outputs": [],
   "source": [
    "import openpyxl\n",
    "import pandas as pd"
   ]
  },
  {
   "cell_type": "code",
   "execution_count": 2,
   "metadata": {
    "collapsed": true
   },
   "outputs": [],
   "source": [
    "#USE panda to report the matrix\n",
    "def print_full(x):\n",
    "    df = pd.DataFrame(x)\n",
    "    pd.set_option('display.max_rows', 200)\n",
    "    pd.set_option('display.max_columns', 20)\n",
    "    display(df)"
   ]
  },
  {
   "cell_type": "code",
   "execution_count": 3,
   "metadata": {
    "collapsed": true
   },
   "outputs": [],
   "source": [
    "def importexcel(excelname, sheetname):\n",
    "    wb = openpyxl.load_workbook(str(excelname)+\".xlsx\")\n",
    "    ws = wb.get_sheet_by_name(str(sheetname))\n",
    "    dataset = []\n",
    "    for i in range(0, ws.max_row):\n",
    "        row = []\n",
    "        a = ws[i+1][1].value\n",
    "        if(a == None):\n",
    "            break\n",
    "        for j in range(0, ws.max_column):\n",
    "            row.append(ws[i+1][j].value)\n",
    "        dataset.append(row)\n",
    "    return dataset"
   ]
  },
  {
   "cell_type": "code",
   "execution_count": 4,
   "metadata": {},
   "outputs": [],
   "source": [
    "mydata = importexcel('tw0050', '10ma')"
   ]
  },
  {
   "cell_type": "code",
   "execution_count": 5,
   "metadata": {},
   "outputs": [],
   "source": [
    " width = 6\n",
    "length = len(mydata) + 1\n",
    "trade =[[0 for x in range(width)] for y in range(length)]\n",
    "trade[0][0]  = \"date\"\n",
    "trade[0][1]  = \"close_price\"\n",
    "trade[0][2]  = \"10ma\"\n",
    "trade[0][3]  = \"buy\"\n",
    "trade[0][4]  = \"hold\"\n",
    "trade[0][5]  = \"sell\""
   ]
  },
  {
   "cell_type": "code",
   "execution_count": 6,
   "metadata": {},
   "outputs": [],
   "source": [
    "for i in range(1, len(mydata)):\n",
    "    for j in range(0, 2):\n",
    "        trade[i][j] = mydata[i][j]"
   ]
  },
  {
   "cell_type": "code",
   "execution_count": 7,
   "metadata": {
    "collapsed": true
   },
   "outputs": [],
   "source": [
    "for i in range(10, len(trade)):\n",
    "    temp = 0\n",
    "    for j in range(0, 10):\n",
    "        temp = temp + trade[i-j][1]\n",
    "    trade[i][2] = temp / 10"
   ]
  },
  {
   "cell_type": "code",
   "execution_count": null,
   "metadata": {
    "collapsed": true
   },
   "outputs": [],
   "source": [
    "print_full(trade)"
   ]
  }
 ],
 "metadata": {
  "kernelspec": {
   "display_name": "Python 3",
   "language": "python",
   "name": "python3"
  },
  "language_info": {
   "codemirror_mode": {
    "name": "ipython",
    "version": 3
   },
   "file_extension": ".py",
   "mimetype": "text/x-python",
   "name": "python",
   "nbconvert_exporter": "python",
   "pygments_lexer": "ipython3",
   "version": "3.6.1"
  }
 },
 "nbformat": 4,
 "nbformat_minor": 2
}
